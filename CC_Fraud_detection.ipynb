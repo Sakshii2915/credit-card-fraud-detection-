{
 "cells": [
  {
   "cell_type": "code",
   "execution_count": 9,
   "metadata": {},
   "outputs": [],
   "source": [
    "import numpy as np\n",
    "import pandas as pd\n",
    "import matplotlib.pyplot as plt\n",
    "import seaborn as sns\n",
    "from sklearn.model_selection import train_test_split\n",
    "from sklearn.preprocessing import StandardScaler\n",
    "from sklearn.linear_model import LogisticRegression\n",
    "from sklearn.neighbors import KNeighborsClassifier\n",
    "from sklearn.svm import SVC\n",
    "from sklearn.tree import DecisionTreeClassifier, plot_tree\n",
    "from sklearn.metrics import classification_report, confusion_matrix, accuracy_score, roc_curve, auc"
   ]
  },
  {
   "cell_type": "code",
   "execution_count": 10,
   "metadata": {},
   "outputs": [
    {
     "name": "stdout",
     "output_type": "stream",
     "text": [
      "   Time        V1        V2        V3        V4        V5        V6        V7  \\\n",
      "0   0.0 -1.359807 -0.072781  2.536347  1.378155 -0.338321  0.462388  0.239599   \n",
      "1   0.0  1.191857  0.266151  0.166480  0.448154  0.060018 -0.082361 -0.078803   \n",
      "2   1.0 -1.358354 -1.340163  1.773209  0.379780 -0.503198  1.800499  0.791461   \n",
      "3   1.0 -0.966272 -0.185226  1.792993 -0.863291 -0.010309  1.247203  0.237609   \n",
      "4   2.0 -1.158233  0.877737  1.548718  0.403034 -0.407193  0.095921  0.592941   \n",
      "5   2.0 -0.425966  0.960523  1.141109 -0.168252  0.420987 -0.029728  0.476201   \n",
      "6   4.0  1.229658  0.141004  0.045371  1.202613  0.191881  0.272708 -0.005159   \n",
      "7   7.0 -0.644269  1.417964  1.074380 -0.492199  0.948934  0.428118  1.120631   \n",
      "8   7.0 -0.894286  0.286157 -0.113192 -0.271526  2.669599  3.721818  0.370145   \n",
      "9   9.0 -0.338262  1.119593  1.044367 -0.222187  0.499361 -0.246761  0.651583   \n",
      "\n",
      "         V8        V9  ...       V21       V22       V23       V24       V25  \\\n",
      "0  0.098698  0.363787  ... -0.018307  0.277838 -0.110474  0.066928  0.128539   \n",
      "1  0.085102 -0.255425  ... -0.225775 -0.638672  0.101288 -0.339846  0.167170   \n",
      "2  0.247676 -1.514654  ...  0.247998  0.771679  0.909412 -0.689281 -0.327642   \n",
      "3  0.377436 -1.387024  ... -0.108300  0.005274 -0.190321 -1.175575  0.647376   \n",
      "4 -0.270533  0.817739  ... -0.009431  0.798278 -0.137458  0.141267 -0.206010   \n",
      "5  0.260314 -0.568671  ... -0.208254 -0.559825 -0.026398 -0.371427 -0.232794   \n",
      "6  0.081213  0.464960  ... -0.167716 -0.270710 -0.154104 -0.780055  0.750137   \n",
      "7 -3.807864  0.615375  ...  1.943465 -1.015455  0.057504 -0.649709 -0.415267   \n",
      "8  0.851084 -0.392048  ... -0.073425 -0.268092 -0.204233  1.011592  0.373205   \n",
      "9  0.069539 -0.736727  ... -0.246914 -0.633753 -0.120794 -0.385050 -0.069733   \n",
      "\n",
      "        V26       V27       V28  Amount  Class  \n",
      "0 -0.189115  0.133558 -0.021053  149.62      0  \n",
      "1  0.125895 -0.008983  0.014724    2.69      0  \n",
      "2 -0.139097 -0.055353 -0.059752  378.66      0  \n",
      "3 -0.221929  0.062723  0.061458  123.50      0  \n",
      "4  0.502292  0.219422  0.215153   69.99      0  \n",
      "5  0.105915  0.253844  0.081080    3.67      0  \n",
      "6 -0.257237  0.034507  0.005168    4.99      0  \n",
      "7 -0.051634 -1.206921 -1.085339   40.80      0  \n",
      "8 -0.384157  0.011747  0.142404   93.20      0  \n",
      "9  0.094199  0.246219  0.083076    3.68      0  \n",
      "\n",
      "[10 rows x 31 columns]\n",
      "(284807, 31)\n"
     ]
    }
   ],
   "source": [
    "# Load the dataset\n",
    "CC_df = pd.read_csv(r\"C:\\Users\\chamo\\Desktop\\credit\\creditcard.csv\")\n",
    "print(CC_df.head(10))\n",
    "print(CC_df.shape)\n"
   ]
  },
  {
   "cell_type": "code",
   "execution_count": 11,
   "metadata": {},
   "outputs": [
    {
     "name": "stdout",
     "output_type": "stream",
     "text": [
      "Index(['Time', 'V1', 'V2', 'V3', 'V4', 'V5', 'V6', 'V7', 'V8', 'V9', 'V10',\n",
      "       'V11', 'V12', 'V13', 'V14', 'V15', 'V16', 'V17', 'V18', 'V19', 'V20',\n",
      "       'V21', 'V22', 'V23', 'V24', 'V25', 'V26', 'V27', 'V28', 'Amount',\n",
      "       'Class'],\n",
      "      dtype='object')\n",
      "Class\n",
      "0    284315\n",
      "1       492\n",
      "Name: count, dtype: int64\n",
      "<class 'pandas.core.frame.DataFrame'>\n",
      "RangeIndex: 284807 entries, 0 to 284806\n",
      "Data columns (total 31 columns):\n",
      " #   Column  Non-Null Count   Dtype  \n",
      "---  ------  --------------   -----  \n",
      " 0   Time    284807 non-null  float64\n",
      " 1   V1      284807 non-null  float64\n",
      " 2   V2      284807 non-null  float64\n",
      " 3   V3      284807 non-null  float64\n",
      " 4   V4      284807 non-null  float64\n",
      " 5   V5      284807 non-null  float64\n",
      " 6   V6      284807 non-null  float64\n",
      " 7   V7      284807 non-null  float64\n",
      " 8   V8      284807 non-null  float64\n",
      " 9   V9      284807 non-null  float64\n",
      " 10  V10     284807 non-null  float64\n",
      " 11  V11     284807 non-null  float64\n",
      " 12  V12     284807 non-null  float64\n",
      " 13  V13     284807 non-null  float64\n",
      " 14  V14     284807 non-null  float64\n",
      " 15  V15     284807 non-null  float64\n",
      " 16  V16     284807 non-null  float64\n",
      " 17  V17     284807 non-null  float64\n",
      " 18  V18     284807 non-null  float64\n",
      " 19  V19     284807 non-null  float64\n",
      " 20  V20     284807 non-null  float64\n",
      " 21  V21     284807 non-null  float64\n",
      " 22  V22     284807 non-null  float64\n",
      " 23  V23     284807 non-null  float64\n",
      " 24  V24     284807 non-null  float64\n",
      " 25  V25     284807 non-null  float64\n",
      " 26  V26     284807 non-null  float64\n",
      " 27  V27     284807 non-null  float64\n",
      " 28  V28     284807 non-null  float64\n",
      " 29  Amount  284807 non-null  float64\n",
      " 30  Class   284807 non-null  int64  \n",
      "dtypes: float64(30), int64(1)\n",
      "memory usage: 67.4 MB\n",
      "None\n",
      "Time      0\n",
      "V1        0\n",
      "V2        0\n",
      "V3        0\n",
      "V4        0\n",
      "V5        0\n",
      "V6        0\n",
      "V7        0\n",
      "V8        0\n",
      "V9        0\n",
      "V10       0\n",
      "V11       0\n",
      "V12       0\n",
      "V13       0\n",
      "V14       0\n",
      "V15       0\n",
      "V16       0\n",
      "V17       0\n",
      "V18       0\n",
      "V19       0\n",
      "V20       0\n",
      "V21       0\n",
      "V22       0\n",
      "V23       0\n",
      "V24       0\n",
      "V25       0\n",
      "V26       0\n",
      "V27       0\n",
      "V28       0\n",
      "Amount    0\n",
      "Class     0\n",
      "dtype: int64\n",
      "                Time            V1            V2            V3            V4  \\\n",
      "count  284807.000000  2.848070e+05  2.848070e+05  2.848070e+05  2.848070e+05   \n",
      "mean    94813.859575  1.168375e-15  3.416908e-16 -1.379537e-15  2.074095e-15   \n",
      "std     47488.145955  1.958696e+00  1.651309e+00  1.516255e+00  1.415869e+00   \n",
      "min         0.000000 -5.640751e+01 -7.271573e+01 -4.832559e+01 -5.683171e+00   \n",
      "25%     54201.500000 -9.203734e-01 -5.985499e-01 -8.903648e-01 -8.486401e-01   \n",
      "50%     84692.000000  1.810880e-02  6.548556e-02  1.798463e-01 -1.984653e-02   \n",
      "75%    139320.500000  1.315642e+00  8.037239e-01  1.027196e+00  7.433413e-01   \n",
      "max    172792.000000  2.454930e+00  2.205773e+01  9.382558e+00  1.687534e+01   \n",
      "\n",
      "                 V5            V6            V7            V8            V9  \\\n",
      "count  2.848070e+05  2.848070e+05  2.848070e+05  2.848070e+05  2.848070e+05   \n",
      "mean   9.604066e-16  1.487313e-15 -5.556467e-16  1.213481e-16 -2.406331e-15   \n",
      "std    1.380247e+00  1.332271e+00  1.237094e+00  1.194353e+00  1.098632e+00   \n",
      "min   -1.137433e+02 -2.616051e+01 -4.355724e+01 -7.321672e+01 -1.343407e+01   \n",
      "25%   -6.915971e-01 -7.682956e-01 -5.540759e-01 -2.086297e-01 -6.430976e-01   \n",
      "50%   -5.433583e-02 -2.741871e-01  4.010308e-02  2.235804e-02 -5.142873e-02   \n",
      "75%    6.119264e-01  3.985649e-01  5.704361e-01  3.273459e-01  5.971390e-01   \n",
      "max    3.480167e+01  7.330163e+01  1.205895e+02  2.000721e+01  1.559499e+01   \n",
      "\n",
      "       ...           V21           V22           V23           V24  \\\n",
      "count  ...  2.848070e+05  2.848070e+05  2.848070e+05  2.848070e+05   \n",
      "mean   ...  1.654067e-16 -3.568593e-16  2.578648e-16  4.473266e-15   \n",
      "std    ...  7.345240e-01  7.257016e-01  6.244603e-01  6.056471e-01   \n",
      "min    ... -3.483038e+01 -1.093314e+01 -4.480774e+01 -2.836627e+00   \n",
      "25%    ... -2.283949e-01 -5.423504e-01 -1.618463e-01 -3.545861e-01   \n",
      "50%    ... -2.945017e-02  6.781943e-03 -1.119293e-02  4.097606e-02   \n",
      "75%    ...  1.863772e-01  5.285536e-01  1.476421e-01  4.395266e-01   \n",
      "max    ...  2.720284e+01  1.050309e+01  2.252841e+01  4.584549e+00   \n",
      "\n",
      "                V25           V26           V27           V28         Amount  \\\n",
      "count  2.848070e+05  2.848070e+05  2.848070e+05  2.848070e+05  284807.000000   \n",
      "mean   5.340915e-16  1.683437e-15 -3.660091e-16 -1.227390e-16      88.349619   \n",
      "std    5.212781e-01  4.822270e-01  4.036325e-01  3.300833e-01     250.120109   \n",
      "min   -1.029540e+01 -2.604551e+00 -2.256568e+01 -1.543008e+01       0.000000   \n",
      "25%   -3.171451e-01 -3.269839e-01 -7.083953e-02 -5.295979e-02       5.600000   \n",
      "50%    1.659350e-02 -5.213911e-02  1.342146e-03  1.124383e-02      22.000000   \n",
      "75%    3.507156e-01  2.409522e-01  9.104512e-02  7.827995e-02      77.165000   \n",
      "max    7.519589e+00  3.517346e+00  3.161220e+01  3.384781e+01   25691.160000   \n",
      "\n",
      "               Class  \n",
      "count  284807.000000  \n",
      "mean        0.001727  \n",
      "std         0.041527  \n",
      "min         0.000000  \n",
      "25%         0.000000  \n",
      "50%         0.000000  \n",
      "75%         0.000000  \n",
      "max         1.000000  \n",
      "\n",
      "[8 rows x 31 columns]\n"
     ]
    }
   ],
   "source": [
    "# Dataset exploration\n",
    "print(CC_df.columns)\n",
    "print(CC_df['Class'].value_counts())\n",
    "print(CC_df.info())\n",
    "print(CC_df.isnull().sum())\n",
    "print(CC_df.describe())"
   ]
  },
  {
   "cell_type": "code",
   "execution_count": 12,
   "metadata": {},
   "outputs": [],
   "source": [
    "\n",
    "# Separate legitimate and fraudulent transactions\n",
    "legit = CC_df[CC_df[\"Class\"] == 0]\n",
    "fraud = CC_df[CC_df[\"Class\"] == 1]\n"
   ]
  },
  {
   "cell_type": "code",
   "execution_count": 13,
   "metadata": {},
   "outputs": [
    {
     "name": "stdout",
     "output_type": "stream",
     "text": [
      "Class\n",
      "0    492\n",
      "1    492\n",
      "Name: count, dtype: int64\n",
      "               Time        V1        V2        V3        V4        V5  \\\n",
      "Class                                                                   \n",
      "0      94508.473577  0.067999  0.069876  0.030163 -0.002351  0.054808   \n",
      "1      80746.806911 -4.771948  3.623778 -7.033281  4.542029 -3.151225   \n",
      "\n",
      "             V6        V7        V8        V9  ...       V20       V21  \\\n",
      "Class                                          ...                       \n",
      "0      0.046351 -0.026790  0.069303 -0.020016  ... -0.035735 -0.019501   \n",
      "1     -1.397737 -5.568731  0.570636 -2.581123  ...  0.372319  0.713588   \n",
      "\n",
      "            V22       V23       V24       V25       V26       V27       V28  \\\n",
      "Class                                                                         \n",
      "0     -0.009901  0.023727 -0.024064 -0.015427  0.012294  0.005773 -0.006276   \n",
      "1      0.014049 -0.040308 -0.105130  0.041449  0.051648  0.170575  0.075667   \n",
      "\n",
      "           Amount  \n",
      "Class              \n",
      "0       67.827236  \n",
      "1      122.211321  \n",
      "\n",
      "[2 rows x 30 columns]\n"
     ]
    }
   ],
   "source": [
    "# Balancing the data\n",
    "legit_sample = legit.sample(n=492)\n",
    "cc_df2 = pd.concat([legit_sample, fraud], axis=0)\n",
    "print(cc_df2['Class'].value_counts())\n",
    "print(cc_df2.groupby('Class').mean())"
   ]
  },
  {
   "cell_type": "code",
   "execution_count": 14,
   "metadata": {},
   "outputs": [
    {
     "name": "stdout",
     "output_type": "stream",
     "text": [
      "            Time        V1        V2        V3        V4        V5        V6  \\\n",
      "279524  168926.0  1.961343 -0.715029 -1.703147 -0.613582  1.713865  3.913136   \n",
      "178940  123851.0  1.948309  0.509531 -1.314830  3.640726  0.760668 -0.074404   \n",
      "174784  122068.0 -0.055797  1.036757 -1.041280 -0.247666  0.429944 -0.837475   \n",
      "239342  150059.0 -2.084089  2.006896 -0.476583 -1.116190 -0.104131 -0.919429   \n",
      "158974  112043.0 -0.995355 -1.352590 -1.734069 -0.268498  2.236780 -0.050637   \n",
      "\n",
      "              V7        V8        V9  ...       V20       V21       V22  \\\n",
      "279524 -1.252671  1.054911  1.314417  ... -0.143399  0.191787  0.691780   \n",
      "178940  0.373592 -0.051184 -1.144656  ... -0.392522  0.271425  0.791236   \n",
      "174784  0.623342  0.297727 -0.405182  ... -0.170220  0.385114  0.991021   \n",
      "239342  0.674635  0.273956  1.235175  ...  0.643120 -0.007696  0.719735   \n",
      "158974  2.318880 -0.381945 -0.362560  ...  0.818068  0.535621  0.865505   \n",
      "\n",
      "             V23       V24       V25       V26       V27       V28  Amount  \n",
      "279524  0.158595  0.726621 -0.060118 -0.192346  0.060914 -0.042846    9.99  \n",
      "178940 -0.111272 -0.427653  0.396720  0.303636 -0.077089 -0.081775    5.00  \n",
      "174784 -0.105457 -0.492922 -0.325824 -0.147592 -0.022979  0.025910   42.81  \n",
      "239342 -0.213740 -0.013611  0.298866  0.160863  0.888933  0.617327   20.00  \n",
      "158974  1.020284 -0.454518 -0.953113 -1.063365 -0.008013  0.152545  391.08  \n",
      "\n",
      "[5 rows x 30 columns]\n",
      "Shape of X Data frame: (984, 30)\n",
      "Shape of Y Data frame: (984,)\n"
     ]
    }
   ],
   "source": [
    "# Splitting features and labels\n",
    "X = cc_df2.drop(columns={'Class'})\n",
    "Y = cc_df2['Class']\n",
    "print(X.head())\n",
    "print(f\"Shape of X Data frame: {X.shape}\")\n",
    "print(f\"Shape of Y Data frame: {Y.shape}\")"
   ]
  },
  {
   "cell_type": "code",
   "execution_count": 15,
   "metadata": {},
   "outputs": [],
   "source": [
    "# Splitting the data into training and testing sets\n",
    "X_train, X_test, y_train, y_test = train_test_split(X, Y, test_size=0.2, random_state=42, stratify=Y)"
   ]
  },
  {
   "cell_type": "code",
   "execution_count": 16,
   "metadata": {},
   "outputs": [],
   "source": [
    "\n",
    "# Standardizing the features\n",
    "scaler = StandardScaler()\n",
    "X_train = scaler.fit_transform(X_train)\n",
    "X_test = scaler.transform(X_test)\n"
   ]
  },
  {
   "cell_type": "code",
   "execution_count": 17,
   "metadata": {},
   "outputs": [
    {
     "name": "stdout",
     "output_type": "stream",
     "text": [
      "Logistic Regression Classification Report:\n",
      "               precision    recall  f1-score   support\n",
      "\n",
      "           0       0.95      0.97      0.96        99\n",
      "           1       0.97      0.95      0.96        98\n",
      "\n",
      "    accuracy                           0.96       197\n",
      "   macro avg       0.96      0.96      0.96       197\n",
      "weighted avg       0.96      0.96      0.96       197\n",
      "\n",
      "Logistic Regression Confusion Matrix:\n",
      " [[96  3]\n",
      " [ 5 93]]\n",
      "Logistic Regression Accuracy: 0.9593908629441624\n"
     ]
    }
   ],
   "source": [
    "# Logistic Regression\n",
    "log_reg = LogisticRegression(random_state=42)\n",
    "log_reg.fit(X_train, y_train)\n",
    "y_pred_log_reg = log_reg.predict(X_test)\n",
    "print(\"Logistic Regression Classification Report:\\n\", classification_report(y_test, y_pred_log_reg))\n",
    "print(\"Logistic Regression Confusion Matrix:\\n\", confusion_matrix(y_test, y_pred_log_reg))\n",
    "print(\"Logistic Regression Accuracy:\", accuracy_score(y_test, y_pred_log_reg))"
   ]
  },
{
   "cell_type": "code",
   "execution_count": 18,
   "metadata": {},
   "outputs": [
    {
     "name": "stdout",
     "output_type": "stream",
     "text": [
      "KNN Classification Report:\n",
      "               precision    recall  f1-score   support\n",
      "\n",
      "           0       0.92      0.98      0.95        99\n",
      "           1       0.98      0.92      0.95        98\n",
      "\n",
      "    accuracy                           0.95       197\n",
      "   macro avg       0.95      0.95      0.95       197\n",
      "weighted avg       0.95      0.95      0.95       197\n",
      "\n",
      "KNN Confusion Matrix:\n",
      " [[97  2]\n",
      " [ 8 90]]\n",
      "KNN Accuracy: 0.949238578680203\n"
     ]
    }
   ],
   "source": [
    "# K-Nearest Neighbors (KNN)\n",
    "knn = KNeighborsClassifier(n_neighbors=5)\n",
    "knn.fit(X_train, y_train)\n",
    "y_pred_knn = knn.predict(X_test)\n",
    "print(\"KNN Classification Report:\\n\", classification_report(y_test, y_pred_knn))\n",
    "print(\"KNN Confusion Matrix:\\n\", confusion_matrix(y_test, y_pred_knn))\n",
    "print(\"KNN Accuracy:\", accuracy_score(y_test, y_pred_knn))\n"
   ]
  },
  {
   "cell_type": "code",
   "execution_count": 19,
   "metadata": {},
   "outputs": [],
   "source": [
    "# Error Rate vs. K Value for KNN\n",
    "error_rate = []\n",
    "for i in range(1, 41):\n",
    "    knn = KNeighborsClassifier(n_neighbors=i)\n",
    "    knn.fit(X_train, y_train)\n",
    "    pred_i = knn.predict(X_test)\n",
    "    error_rate.append(np.mean(pred_i != y_test))"
   ]
  },
  {
   "cell_type": "code",
   "execution_count": 20,
   "metadata": {},
   "outputs": [
    {
     "data": {
      "image/png": "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",
      "text/plain": [
       "<Figure size 1000x600 with 1 Axes>"
      ]
     },
     "metadata": {},
     "output_type": "display_data"
    }
   ],
   "source": [
    "# Plotting the error rate\n",
    "plt.figure(figsize=(10, 6))\n",
    "plt.plot(range(1, 41), error_rate, color='blue', linestyle='dashed', marker='o', markerfacecolor='red', markersize=8)\n",
    "plt.title('Error Rate vs. K Value')\n",
    "plt.xlabel('K')\n",
    "plt.ylabel('Error Rate')\n",
    "plt.show()"
   ]
  },
  {
   "cell_type": "code",
   "execution_count": 21,
   "metadata": {},
   "outputs": [
    {
     "name": "stdout",
     "output_type": "stream",
     "text": [
      "SVM Classification Report:\n",
      "               precision    recall  f1-score   support\n",
      "\n",
      "           0       0.95      0.97      0.96        99\n",
      "           1       0.97      0.95      0.96        98\n",
      "\n",
      "    accuracy                           0.96       197\n",
      "   macro avg       0.96      0.96      0.96       197\n",
      "weighted avg       0.96      0.96      0.96       197\n",
      "\n",
      "SVM Confusion Matrix:\n",
      " [[96  3]\n",
      " [ 5 93]]\n",
      "SVM Accuracy: 0.9593908629441624\n"
     ]
    }
   ],
   "source": [
    "# Support Vector Machine (SVM)\n",
    "svm = SVC(kernel='linear', random_state=42)\n",
    "svm.fit(X_train, y_train)\n",
    "y_pred_svm = svm.predict(X_test)\n",
    "print(\"SVM Classification Report:\\n\", classification_report(y_test, y_pred_svm))\n",
    "print(\"SVM Confusion Matrix:\\n\", confusion_matrix(y_test, y_pred_svm))\n",
    "print(\"SVM Accuracy:\", accuracy_score(y_test, y_pred_svm))\n"
   ]
  },
  {
   "cell_type": "code",
   "execution_count": 22,
   "metadata": {},
   "outputs": [],
   "source": [
    "\n",
    "# ROC Curve for SVM\n",
    "y_score_svm = svm.decision_function(X_test)  # Use decision_function for SVM\n",
    "fpr, tpr, _ = roc_curve(y_test, y_score_svm)\n",
    "roc_auc = auc(fpr, tpr)\n"
   ]
  },
  {
   "cell_type": "code",
   "execution_count": 23,
   "metadata": {},
   "outputs": [
    {
     "data": {
      "image/png": "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

 
